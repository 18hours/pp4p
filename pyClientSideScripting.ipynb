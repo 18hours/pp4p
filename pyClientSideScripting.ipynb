{
 "metadata": {
  "name": "",
  "signature": "sha256:ac08dedb88f1ed74e5acc9a9aa135c952328549b170646aa7fa50edf94ec0984"
 },
 "nbformat": 3,
 "nbformat_minor": 0,
 "worksheets": [
  {
   "cells": [
    {
     "cell_type": "heading",
     "level": 1,
     "metadata": {},
     "source": [
      "Client-Side Scripting"
     ]
    },
    {
     "cell_type": "markdown",
     "metadata": {},
     "source": [
      "In this chapter, we\u2019ll concentrate on the FTP and email protocol modules in Python,\n",
      "and we\u2019ll peek at a few others along the way (NNTP news, HTTP web pages, and so\n",
      "on)."
     ]
    },
    {
     "cell_type": "heading",
     "level": 1,
     "metadata": {},
     "source": [
      "FTP: Transferring Files over the Net"
     ]
    },
    {
     "cell_type": "markdown",
     "metadata": {},
     "source": [
      "FTP lets us ask for files from any server machine that supports FTP, without\n",
      "requiring that it run our custom getfile script. FTP also supports more advanced op-\n",
      "erations such as uploading files to the server, getting remote directory listings, and\n",
      "more."
     ]
    },
    {
     "cell_type": "markdown",
     "metadata": {},
     "source": [
      "Really, FTP runs on top of two sockets: one for passing control commands between\n",
      "client and server (port 21), and another for transferring bytes. By using a two-socket\n",
      "model, FTP avoids the possibility of deadlocks (i.e., transfers on the data socket do not\n",
      "block dialogs on the control socket). Ultimately, though, Python\u2019s ftplib support\n",
      "module allows us to upload and download files at a remote server machine by FTP,\n",
      "without dealing in raw socket calls or FTP protocol details."
     ]
    },
    {
     "cell_type": "heading",
     "level": 1,
     "metadata": {},
     "source": [
      "Transferring Files with ftplib"
     ]
    },
    {
     "cell_type": "code",
     "collapsed": false,
     "input": [],
     "language": "python",
     "metadata": {},
     "outputs": []
    }
   ],
   "metadata": {}
  }
 ]
}