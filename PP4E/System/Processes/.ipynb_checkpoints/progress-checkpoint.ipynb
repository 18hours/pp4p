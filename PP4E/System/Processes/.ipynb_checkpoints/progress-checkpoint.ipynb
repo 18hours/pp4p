{
 "metadata": {
  "name": "",
  "signature": "sha256:5ccaa64e240d31210b4310f596f8a4f6a1a490fbecb0eb2c1f45eaeff45819dd"
 },
 "nbformat": 3,
 "nbformat_minor": 0,
 "worksheets": [
  {
   "cells": [
    {
     "cell_type": "heading",
     "level": 1,
     "metadata": {},
     "source": [
      "Parallel System Tools"
     ]
    },
    {
     "cell_type": "heading",
     "level": 1,
     "metadata": {},
     "source": [
      "Forking Processes"
     ]
    },
    {
     "cell_type": "heading",
     "level": 2,
     "metadata": {},
     "source": [
      "1.fork"
     ]
    },
    {
     "cell_type": "code",
     "collapsed": false,
     "input": [
      "import os"
     ],
     "language": "python",
     "metadata": {},
     "outputs": [],
     "prompt_number": 1
    },
    {
     "cell_type": "code",
     "collapsed": false,
     "input": [
      "def child():\n",
      "    print \"hello from child\", os.getpid()\n",
      "    os._exit(0) # else goes back to parent loop"
     ],
     "language": "python",
     "metadata": {},
     "outputs": [],
     "prompt_number": 2
    },
    {
     "cell_type": "code",
     "collapsed": false,
     "input": [
      "def parent():\n",
      "    while True:\n",
      "        #generates a copy of the calling program, \n",
      "        # it returns a different value in each copy: \n",
      "        # zero in the child process and \n",
      "        # the process ID of the new child in the parent.\n",
      "        newpid = os.fork() \n",
      "        if newpid == 0:\n",
      "            child()\n",
      "        else:\n",
      "            print \"hello from parent\", os.getpid(), newpid\n",
      "        if raw_input() == 'q': break"
     ],
     "language": "python",
     "metadata": {},
     "outputs": [],
     "prompt_number": 3
    },
    {
     "cell_type": "code",
     "collapsed": false,
     "input": [
      "parent()"
     ],
     "language": "python",
     "metadata": {},
     "outputs": [
      {
       "output_type": "stream",
       "stream": "stdout",
       "text": [
        "hello from parent 8118 8360\n"
       ]
      },
      {
       "name": "stdout",
       "output_type": "stream",
       "stream": "stdout",
       "text": [
        "\n"
       ]
      },
      {
       "output_type": "stream",
       "stream": "stdout",
       "text": [
        "hello from parent 8118 8366\n",
        "hello from child 8360\n"
       ]
      },
      {
       "name": "stdout",
       "output_type": "stream",
       "stream": "stdout",
       "text": [
        "\n"
       ]
      },
      {
       "output_type": "stream",
       "stream": "stdout",
       "text": [
        "hello from parent 8118 8373\n",
        "hello from child 8366\n"
       ]
      },
      {
       "name": "stdout",
       "output_type": "stream",
       "stream": "stdout",
       "text": [
        "q\n"
       ]
      },
      {
       "output_type": "stream",
       "stream": "stdout",
       "text": [
        "hello from child 8373\n"
       ]
      }
     ],
     "prompt_number": 8
    },
    {
     "cell_type": "heading",
     "level": 2,
     "metadata": {},
     "source": [
      "2.fork-count"
     ]
    },
    {
     "cell_type": "code",
     "collapsed": false,
     "input": [
      "import os,time"
     ],
     "language": "python",
     "metadata": {},
     "outputs": [],
     "prompt_number": 15
    },
    {
     "cell_type": "code",
     "collapsed": false,
     "input": [
      "def counter(count):\n",
      "    for i in range(count):\n",
      "        time.sleep(3)\n",
      "        print \"[%s] => %s\" % (os.getpid(), i)"
     ],
     "language": "python",
     "metadata": {},
     "outputs": [],
     "prompt_number": 27
    },
    {
     "cell_type": "code",
     "collapsed": false,
     "input": [
      "for i in range(5):\n",
      "    pid = os.fork()\n",
      "    if pid != 0:\n",
      "        print \"Process %d spawned\" % pid\n",
      "    else:\n",
      "        counter(5)\n",
      "        os._exit(0)\n",
      "print \"Main process exiting.\""
     ],
     "language": "python",
     "metadata": {},
     "outputs": [
      {
       "output_type": "stream",
       "stream": "stdout",
       "text": [
        "Process 9008 spawned\n",
        "Process 9009 spawned\n",
        "Process 9010 spawned\n",
        "Process 9011 spawned\n",
        "Process 9012 spawned\n",
        "Main process exiting.\n",
        "[8979] => 0\n",
        "[8978] => 0\n",
        "[8980] => 0\n",
        "[8981] => 0\n",
        "[8982] => 0\n",
        "[8979] => 1[8978] => 1[8980] => 1[8981] => 1[8982] => 1\n",
        "\n",
        "\n",
        "\n",
        "\n"
       ]
      }
     ],
     "prompt_number": 30
    },
    {
     "cell_type": "heading",
     "level": 2,
     "metadata": {},
     "source": [
      "3.The fork/exec Combination"
     ]
    },
    {
     "cell_type": "code",
     "collapsed": false,
     "input": [
      "import os"
     ],
     "language": "python",
     "metadata": {},
     "outputs": [],
     "prompt_number": 32
    },
    {
     "cell_type": "code",
     "collapsed": false,
     "input": [
      "parm = 0\n",
      "while True:\n",
      "    parm += 1\n",
      "    pid = os.fork()\n",
      "    if pid == 0:\n",
      "        os.execlp('python','python','child.py',str(parm))\n",
      "        assert False, 'error starting program'\n",
      "    else:\n",
      "        print \"Child is\", pid\n",
      "        if raw_input() == 'q': break"
     ],
     "language": "python",
     "metadata": {},
     "outputs": [
      {
       "output_type": "stream",
       "stream": "stdout",
       "text": [
        "Child is 9654\n"
       ]
      },
      {
       "name": "stdout",
       "output_type": "stream",
       "stream": "stdout",
       "text": [
        "\n"
       ]
      },
      {
       "output_type": "stream",
       "stream": "stdout",
       "text": [
        "Child is 9655\n"
       ]
      },
      {
       "name": "stdout",
       "output_type": "stream",
       "stream": "stdout",
       "text": [
        "\n"
       ]
      },
      {
       "output_type": "stream",
       "stream": "stdout",
       "text": [
        "Child is 9656\n"
       ]
      },
      {
       "name": "stdout",
       "output_type": "stream",
       "stream": "stdout",
       "text": [
        "\n"
       ]
      },
      {
       "output_type": "stream",
       "stream": "stdout",
       "text": [
        "Child is 9657\n"
       ]
      },
      {
       "name": "stdout",
       "output_type": "stream",
       "stream": "stdout",
       "text": [
        "q\n"
       ]
      }
     ],
     "prompt_number": 34
    },
    {
     "cell_type": "heading",
     "level": 1,
     "metadata": {},
     "source": [
      "Threads"
     ]
    },
    {
     "cell_type": "heading",
     "level": 2,
     "metadata": {},
     "source": [
      "1.The thread Module"
     ]
    },
    {
     "cell_type": "heading",
     "level": 3,
     "metadata": {},
     "source": [
      "1.1Basic usage"
     ]
    },
    {
     "cell_type": "code",
     "collapsed": false,
     "input": [
      "import thread"
     ],
     "language": "python",
     "metadata": {},
     "outputs": [],
     "prompt_number": 36
    },
    {
     "cell_type": "code",
     "collapsed": false,
     "input": [
      "def child(tid):\n",
      "    print 'Hello from thread', tid"
     ],
     "language": "python",
     "metadata": {},
     "outputs": [],
     "prompt_number": 37
    },
    {
     "cell_type": "code",
     "collapsed": false,
     "input": [
      "def parent():\n",
      "    i = 0\n",
      "    while True:\n",
      "        i += 1\n",
      "        thread.start_new_thread(child, (i,))\n",
      "        if raw_input() == 'q': break"
     ],
     "language": "python",
     "metadata": {},
     "outputs": [],
     "prompt_number": 38
    },
    {
     "cell_type": "code",
     "collapsed": false,
     "input": [
      "parent()"
     ],
     "language": "python",
     "metadata": {},
     "outputs": [
      {
       "name": "stdout",
       "output_type": "stream",
       "stream": "stdout",
       "text": [
        "\n"
       ]
      },
      {
       "output_type": "stream",
       "stream": "stdout",
       "text": [
        "Hello from thread 1\n"
       ]
      },
      {
       "name": "stdout",
       "output_type": "stream",
       "stream": "stdout",
       "text": [
        "\n"
       ]
      },
      {
       "output_type": "stream",
       "stream": "stdout",
       "text": [
        "Hello from thread 2\n"
       ]
      },
      {
       "name": "stdout",
       "output_type": "stream",
       "stream": "stdout",
       "text": [
        "q\n"
       ]
      },
      {
       "output_type": "stream",
       "stream": "stdout",
       "text": [
        "Hello from thread 3\n"
       ]
      }
     ],
     "prompt_number": 39
    },
    {
     "cell_type": "heading",
     "level": 3,
     "metadata": {},
     "source": [
      "1.2 Other ways to code threads with thread"
     ]
    },
    {
     "cell_type": "code",
     "collapsed": false,
     "input": [
      "import thread"
     ],
     "language": "python",
     "metadata": {},
     "outputs": [],
     "prompt_number": 40
    },
    {
     "cell_type": "code",
     "collapsed": false,
     "input": [
      "def action(i):\n",
      "    print i**32"
     ],
     "language": "python",
     "metadata": {},
     "outputs": [],
     "prompt_number": 42
    },
    {
     "cell_type": "code",
     "collapsed": false,
     "input": [
      "class Power:\n",
      "    def __init__(self,i):\n",
      "        self.i = i\n",
      "    def action(self):\n",
      "        print self.i**32"
     ],
     "language": "python",
     "metadata": {},
     "outputs": [],
     "prompt_number": 43
    },
    {
     "cell_type": "code",
     "collapsed": false,
     "input": [
      "thread.start_new_thread(action,(2,))"
     ],
     "language": "python",
     "metadata": {},
     "outputs": [
      {
       "metadata": {},
       "output_type": "pyout",
       "prompt_number": 51,
       "text": [
        "140621501368064"
       ]
      }
     ],
     "prompt_number": 51
    },
    {
     "cell_type": "code",
     "collapsed": false,
     "input": [
      "thread.start_new_thread(lambda: action(2), ())"
     ],
     "language": "python",
     "metadata": {},
     "outputs": [
      {
       "output_type": "stream",
       "stream": "stdout",
       "text": [
        "4294967296\n"
       ]
      },
      {
       "metadata": {},
       "output_type": "pyout",
       "prompt_number": 52,
       "text": [
        "140621501368064"
       ]
      }
     ],
     "prompt_number": 52
    },
    {
     "cell_type": "code",
     "collapsed": false,
     "input": [
      "obj = Power(2)"
     ],
     "language": "python",
     "metadata": {},
     "outputs": [],
     "prompt_number": 56
    },
    {
     "cell_type": "code",
     "collapsed": false,
     "input": [
      "thread.start_new_thread(obj.action,())"
     ],
     "language": "python",
     "metadata": {},
     "outputs": [
      {
       "metadata": {},
       "output_type": "pyout",
       "prompt_number": 57,
       "text": [
        "140621501368064"
       ]
      }
     ],
     "prompt_number": 57
    },
    {
     "cell_type": "heading",
     "level": 3,
     "metadata": {},
     "source": [
      "1.3 Running multiple threads"
     ]
    },
    {
     "cell_type": "code",
     "collapsed": false,
     "input": [
      "import thread,time"
     ],
     "language": "python",
     "metadata": {},
     "outputs": [],
     "prompt_number": 59
    },
    {
     "cell_type": "code",
     "collapsed": false,
     "input": [
      "def counter(myId, count):\n",
      "    for i in range(count):\n",
      "        time.sleep(0.1)\n",
      "        print '[%s] => %s' % (myId, i)"
     ],
     "language": "python",
     "metadata": {},
     "outputs": [],
     "prompt_number": 63
    },
    {
     "cell_type": "code",
     "collapsed": false,
     "input": [
      "for i in range(5):\n",
      "    thread.start_new_thread(counter,(i,3))"
     ],
     "language": "python",
     "metadata": {},
     "outputs": [],
     "prompt_number": 48
    },
    {
     "cell_type": "code",
     "collapsed": false,
     "input": [
      "time.sleep(2)\n",
      "print 'Main threading exit.'"
     ],
     "language": "python",
     "metadata": {},
     "outputs": [
      {
       "output_type": "stream",
       "stream": "stdout",
       "text": [
        "[2] => 0\n",
        "[4] => 0\n",
        "[1] => 0\n",
        "[0] => 0\n",
        "[3] => 0\n",
        "[2] => 1\n",
        "[4] => 1\n",
        "[1] => 1\n",
        "[0] => 1\n",
        "[3] => 1\n",
        "[2] => 2\n",
        "[4] => 2\n",
        "[1] => 2\n",
        "[0] => 2\n",
        "[3] => 2\n",
        "Main threading exit."
       ]
      },
      {
       "output_type": "stream",
       "stream": "stdout",
       "text": [
        "\n"
       ]
      }
     ],
     "prompt_number": 49
    },
    {
     "cell_type": "heading",
     "level": 3,
     "metadata": {},
     "source": [
      "1.4 Synchronizing access to shared objects and names"
     ]
    },
    {
     "cell_type": "code",
     "collapsed": false,
     "input": [
      "import thread,time"
     ],
     "language": "python",
     "metadata": {},
     "outputs": [],
     "prompt_number": 32
    },
    {
     "cell_type": "code",
     "collapsed": false,
     "input": [
      "def counter(myId, count):\n",
      "    for i in range(count):\n",
      "        time.sleep(0.1)\n",
      "        mutex.acquire()\n",
      "        print '[%s] => %s' % (myId, i)\n",
      "        mutex.release()"
     ],
     "language": "python",
     "metadata": {},
     "outputs": [],
     "prompt_number": 33
    },
    {
     "cell_type": "code",
     "collapsed": false,
     "input": [
      "mutex = thread.allocate_lock()\n",
      "for i in range(5):\n",
      "    thread.start_new_thread(counter,(i,3))"
     ],
     "language": "python",
     "metadata": {},
     "outputs": [],
     "prompt_number": 45
    },
    {
     "cell_type": "code",
     "collapsed": false,
     "input": [
      "time.sleep(2)\n",
      "print 'Main threading exit.'"
     ],
     "language": "python",
     "metadata": {},
     "outputs": [
      {
       "output_type": "stream",
       "stream": "stdout",
       "text": [
        "[0] => 0\n",
        "[1] => 0\n",
        "[2] => 0\n",
        "[3] => 0\n",
        "[4] => 0\n",
        "[0] => 1\n",
        "[1] => 1\n",
        "[2] => 1\n",
        "[3] => 1\n",
        "[4] => 1\n",
        "[0] => 2\n",
        "[1] => 2\n",
        "[2] => 2\n",
        "[3] => 2\n",
        "[4] => 2\n",
        "Main threading exit."
       ]
      },
      {
       "output_type": "stream",
       "stream": "stdout",
       "text": [
        "\n"
       ]
      }
     ],
     "prompt_number": 46
    },
    {
     "cell_type": "heading",
     "level": 3,
     "metadata": {},
     "source": [
      "1.5 Waiting for spawned thread exits"
     ]
    },
    {
     "cell_type": "code",
     "collapsed": false,
     "input": [
      "# uses mutexes to know when threads are done in parent/main thread,\n",
      "# instead of time.sleep; lock stdout to avoid comingled prints;"
     ],
     "language": "python",
     "metadata": {},
     "outputs": [],
     "prompt_number": 19
    },
    {
     "cell_type": "code",
     "collapsed": false,
     "input": [
      "import thread"
     ],
     "language": "python",
     "metadata": {},
     "outputs": [],
     "prompt_number": 20
    },
    {
     "cell_type": "code",
     "collapsed": false,
     "input": [
      "stdoutmutex = thread.allocate_lock()"
     ],
     "language": "python",
     "metadata": {},
     "outputs": [],
     "prompt_number": 21
    },
    {
     "cell_type": "code",
     "collapsed": false,
     "input": [
      "# exitmutex = [thread.allocate_lock() for i in range(5)]\n",
      "exitmutex = [False] * 5"
     ],
     "language": "python",
     "metadata": {},
     "outputs": [],
     "prompt_number": 22
    },
    {
     "cell_type": "code",
     "collapsed": false,
     "input": [
      "def counter(myId, count):\n",
      "    for i in range(count):\n",
      "        time.sleep(0.1)\n",
      "        stdoutmutex.acquire()\n",
      "        print '[%s] => %s' % (myId, i)\n",
      "        stdoutmutex.release()\n",
      "#     exitmutex[myId].acquire() # signal main thread\n",
      "    exitmutex[myId] = True"
     ],
     "language": "python",
     "metadata": {},
     "outputs": [],
     "prompt_number": 23
    },
    {
     "cell_type": "code",
     "collapsed": false,
     "input": [
      "for i in range(5):\n",
      "    thread.start_new_thread(counter,(i,3))"
     ],
     "language": "python",
     "metadata": {},
     "outputs": [],
     "prompt_number": 41
    },
    {
     "cell_type": "code",
     "collapsed": false,
     "input": [
      "for mutex in exitmutex:\n",
      "#     while not mutex.locked():pass\n",
      "    while not True:pass\n",
      "print 'Main threading exit.'"
     ],
     "language": "python",
     "metadata": {},
     "outputs": [
      {
       "output_type": "stream",
       "stream": "stdout",
       "text": [
        "[0] => 0\n",
        "[1] => 0\n",
        "[2] => 0\n",
        "[3] => 0\n",
        "[4] => 0\n",
        "[0] => 1\n",
        "[1] => 1\n",
        "[2] => 1\n",
        "[3] => 1\n",
        "[4] => 1\n",
        "[0] => 2\n",
        "[1] => 2\n",
        "[2] => 2\n",
        "[4] => 2\n",
        "[3] => 2\n",
        "Main threading exit."
       ]
      },
      {
       "output_type": "stream",
       "stream": "stdout",
       "text": [
        "\n"
       ]
      }
     ],
     "prompt_number": 42
    },
    {
     "cell_type": "heading",
     "level": 2,
     "metadata": {},
     "source": [
      "2.The threading Module"
     ]
    },
    {
     "cell_type": "heading",
     "level": 3,
     "metadata": {},
     "source": [
      "2.1 thread-classes"
     ]
    },
    {
     "cell_type": "code",
     "collapsed": true,
     "input": [
      "import threading"
     ],
     "language": "python",
     "metadata": {},
     "outputs": [],
     "prompt_number": 57
    },
    {
     "cell_type": "code",
     "collapsed": false,
     "input": [
      "class mythread(threading.Thread):          # subclass Thread object\n",
      "    def __init__(self, myId, count):\n",
      "        self.myId = myId\n",
      "        self.count = count\n",
      "        threading.Thread.__init__(self)\n",
      "    def run(self):\n",
      "        for i in range(self.count):\n",
      "            stdoutmutex.acquire()\n",
      "            print '[%s] => %s' % (self.myId, i)\n",
      "            stdoutmutex.release()"
     ],
     "language": "python",
     "metadata": {},
     "outputs": [],
     "prompt_number": 66
    },
    {
     "cell_type": "code",
     "collapsed": false,
     "input": [
      "stdoutmutex = threading.Lock() # same as thread.allocate_lock( )"
     ],
     "language": "python",
     "metadata": {},
     "outputs": [],
     "prompt_number": 67
    },
    {
     "cell_type": "code",
     "collapsed": false,
     "input": [
      "threads = []\n",
      "for i in range(5):\n",
      "    thread = mythread(i, 3)\n",
      "    thread.start()\n",
      "    threads.append(thread)\n",
      "for thread in threads:\n",
      "    thread.join()\n",
      "print 'Main threading exit.'"
     ],
     "language": "python",
     "metadata": {},
     "outputs": [
      {
       "output_type": "stream",
       "stream": "stdout",
       "text": [
        "[0] => 0\n",
        "[0] => 1\n",
        "[0] => 2\n",
        "[1] => 0\n",
        "[1] => 1\n",
        "[1] => 2\n",
        "[2] => 0\n",
        "[2] => 1\n",
        "[2] => 2\n",
        "[3] => 0\n",
        "[3] => 1\n",
        "[3] => 2\n",
        "[4] => 0\n",
        "[4] => 1\n",
        "[4] => 2\n",
        "Main threading exit."
       ]
      },
      {
       "output_type": "stream",
       "stream": "stdout",
       "text": [
        "\n"
       ]
      }
     ],
     "prompt_number": 68
    },
    {
     "cell_type": "heading",
     "level": 3,
     "metadata": {},
     "source": [
      "2.2 Other ways to code threads with threading"
     ]
    },
    {
     "cell_type": "code",
     "collapsed": false,
     "input": [
      "import threading\n",
      "# subclass with state\n",
      "class mythread(threading.Thread):\n",
      "    def __init__(self, i):\n",
      "        self.i = i\n",
      "        threading.Thread.__init__(self)\n",
      "    def run(self):\n",
      "        print self.i**32\n",
      "mythread(2).start( )"
     ],
     "language": "python",
     "metadata": {},
     "outputs": [
      {
       "output_type": "stream",
       "stream": "stdout",
       "text": [
        "4294967296\n",
        "4294967296\n"
       ]
      }
     ],
     "prompt_number": 94
    },
    {
     "cell_type": "code",
     "collapsed": false,
     "input": [
      "def action(i):\n",
      "    print i**32"
     ],
     "language": "python",
     "metadata": {},
     "outputs": [],
     "prompt_number": 95
    },
    {
     "cell_type": "code",
     "collapsed": false,
     "input": [
      "# pass action in\n",
      "thread = threading.Thread(target=(lambda: action(i)))\n",
      "thread.start( )"
     ],
     "language": "python",
     "metadata": {},
     "outputs": [],
     "prompt_number": 96
    },
    {
     "cell_type": "code",
     "collapsed": false,
     "input": [
      "# same but no lambda wrapper for state\n",
      "threading.Thread(target=action, args=(2,)).start( )\n",
      "\n",
      "# basic thread module\n",
      "import thread\n",
      "thread.start_new_thread(action, (2,))"
     ],
     "language": "python",
     "metadata": {},
     "outputs": [
      {
       "metadata": {},
       "output_type": "pyout",
       "prompt_number": 98,
       "text": [
        "140349501798144"
       ]
      }
     ],
     "prompt_number": 98
    },
    {
     "cell_type": "code",
     "collapsed": false,
     "input": [
      "# a non-thread class with state, OOP\n",
      "class Power:\n",
      "    def __init__(self, i):\n",
      "        self.i = i\n",
      "    def action(self):\n",
      "        print(self.i ** 32)\n",
      "obj = Power(2)\n",
      "threading.Thread(target=obj.action).start() # thread runs bound method"
     ],
     "language": "python",
     "metadata": {},
     "outputs": [
      {
       "output_type": "stream",
       "stream": "stdout",
       "text": [
        "4294967296\n",
        "4294967296\n"
       ]
      }
     ],
     "prompt_number": 99
    },
    {
     "cell_type": "code",
     "collapsed": false,
     "input": [
      "# nested scope to retain state\n",
      "def action(i):\n",
      "    def power():\n",
      "        print(i ** 32)\n",
      "    return power\n",
      "threading.Thread(target=action(2)).start() # thread runs returned function\n",
      "# both with basic thread module\n",
      "thread.start_new_thread(obj.action, ())\n",
      "thread.start_new_thread(action(2), ()) # thread runs a callable object"
     ],
     "language": "python",
     "metadata": {},
     "outputs": [
      {
       "metadata": {},
       "output_type": "pyout",
       "prompt_number": 101,
       "text": [
        "140349510190848"
       ]
      }
     ],
     "prompt_number": 101
    },
    {
     "cell_type": "heading",
     "level": 3,
     "metadata": {},
     "source": [
      "2.3 Synchronizing access to shared objects and names revisited"
     ]
    },
    {
     "cell_type": "code",
     "collapsed": false,
     "input": [
      "import threading\n",
      "count = 0\n",
      "def adder():\n",
      "    global count\n",
      "    count += 1\n",
      "#     time.sleep(0.5)\n",
      "    count += 1\n",
      "threads = []\n",
      "for i in range(100):\n",
      "    thread = threading.Thread(target=adder, args=())\n",
      "    thread.start()\n",
      "    threads.append(thread)\n",
      "for thread in threads: thread.join()\n",
      "print count"
     ],
     "language": "python",
     "metadata": {},
     "outputs": [
      {
       "output_type": "stream",
       "stream": "stdout",
       "text": [
        "200\n"
       ]
      }
     ],
     "prompt_number": 128
    },
    {
     "cell_type": "code",
     "collapsed": false,
     "input": [
      "#prints 200 each time, because shared resource access synchronized\n",
      "count = 0\n",
      "def adder(addlock):\n",
      "    global count\n",
      "    with addlock:\n",
      "        count += 1\n",
      "#     time.sleep(0.5)\n",
      "    with addlock:\n",
      "        count += 1\n",
      "addlock = threading.Lock()\n",
      "threads = []\n",
      "for i in range(100):\n",
      "    thread = threading.Thread(target=adder, args=(addlock,))\n",
      "    thread.start()\n",
      "    threads.append(thread)\n",
      "for thread in threads: thread.join()\n",
      "print count"
     ],
     "language": "python",
     "metadata": {},
     "outputs": [
      {
       "output_type": "stream",
       "stream": "stdout",
       "text": [
        "200\n"
       ]
      }
     ],
     "prompt_number": 130
    },
    {
     "cell_type": "heading",
     "level": 1,
     "metadata": {},
     "source": [
      "The queue Module"
     ]
    },
    {
     "cell_type": "code",
     "collapsed": false,
     "input": [
      "#producer and consumer threads communicating with a shared queue"
     ],
     "language": "python",
     "metadata": {},
     "outputs": [],
     "prompt_number": 131
    },
    {
     "cell_type": "code",
     "collapsed": false,
     "input": [
      "numconsumers = 2 # how many consumers to start\n",
      "numproducers = 4  # how many producers to start\n",
      "nummessages = 4  # messages per producer to put"
     ],
     "language": "python",
     "metadata": {},
     "outputs": [],
     "prompt_number": 2
    },
    {
     "cell_type": "code",
     "collapsed": false,
     "input": [
      "import thread, Queue, time\n",
      "safeprint = thread.allocate_lock()  # else print may overlap\n",
      "dataQueue = Queue.Queue()        # shared global. infinite size\n",
      "\n",
      "def producer(idnum):\n",
      "    for msgnum in range(nummessages):\n",
      "        time.sleep(idnum)\n",
      "        dataQueue.put('[producer id=%d, count=%d]' % (idnum, msgnum))\n",
      "def consumer(idnum):\n",
      "    while True:\n",
      "        time.sleep(0.1)\n",
      "        try:\n",
      "            data = dataQueue.get(block=False)\n",
      "        except Queue.Empty:\n",
      "            pass\n",
      "        else:           \n",
      "            safeprint.acquire( )\n",
      "            print 'consumer', idnum, 'got =>', data\n",
      "            safeprint.release( )\n",
      "\n",
      "if __name__ == '__main__':\n",
      "    for i in range(numconsumers):\n",
      "        thread.start_new_thread(consumer, (i,))\n",
      "    for i in range(numproducers):\n",
      "        thread.start_new_thread(producer, (i,))\n",
      "    time.sleep(((numproducers-1) * nummessages) + 1)\n",
      "    print('Main thread exit.')"
     ],
     "language": "python",
     "metadata": {},
     "outputs": [
      {
       "output_type": "stream",
       "stream": "stdout",
       "text": [
        "consumer 0 got => [producer id=0, count=0]\n",
        "consumer 1 got => [producer id=0, count=1]\n",
        "consumer 0 got => [producer id=0, count=2]\n",
        "consumer 1 got => [producer id=0, count=3]\n",
        "consumer 0 got => [producer id=1, count=0]\n",
        "consumer 0 got => [producer id=2, count=0]\n",
        "consumer 1 got => [producer id=1, count=1]\n",
        "consumer 0 got => [producer id=3, count=0]\n",
        "consumer 1 got => [producer id=1, count=2]\n",
        "consumer 0 got => [producer id=2, count=1]\n",
        "consumer 1 got => [producer id=1, count=3]\n",
        "consumer 0 got => [producer id=2, count=2]\n",
        "consumer 1 got => [producer id=3, count=1]\n",
        "consumer 0 got => [producer id=2, count=3]\n",
        "consumer 0 got => [producer id=3, count=2]\n",
        "consumer 0 got => [producer id=3, count=3]\n",
        "Main thread exit."
       ]
      },
      {
       "output_type": "stream",
       "stream": "stdout",
       "text": [
        "\n"
       ]
      }
     ],
     "prompt_number": 3
    },
    {
     "cell_type": "code",
     "collapsed": false,
     "input": [
      "#same as queuetest.py, by queue object pass in as argument, not global\n",
      "numconsumers = 2                  # how many consumers to start\n",
      "numproducers = 4                  # how many producers to start\n",
      "nummessages  = 4                  # messages per producer to put\n",
      "\n",
      "import thread, Queue, time\n",
      "safeprint = thread.allocate_lock()    # else prints may overlap\n",
      "dataQueue = Queue.Queue()             # shared global, infinite size\n",
      "\n",
      "def producer(idnum, dataqueue):\n",
      "    for msgnum in range(nummessages):\n",
      "        time.sleep(idnum)\n",
      "        dataqueue.put('[producer id=%d, count=%d]' % (idnum, msgnum))\n",
      "\n",
      "def consumer(idnum, dataqueue):\n",
      "    while True:\n",
      "        time.sleep(0.1)\n",
      "        try:\n",
      "            data = dataqueue.get(block=False)\n",
      "        except Queue.Empty:\n",
      "            pass\n",
      "        else:\n",
      "            with safeprint:\n",
      "                print 'consumer', idnum, 'got =>', data\n",
      "\n",
      "if __name__ == '__main__':\n",
      "    for i in range(numconsumers):\n",
      "        thread.start_new_thread(consumer, (i, dataQueue))\n",
      "    for i in range(numproducers):\n",
      "        thread.start_new_thread(producer, (i, dataQueue))\n",
      "    time.sleep(((numproducers-1) * nummessages) + 1)\n",
      "    print 'Main thread exit.'"
     ],
     "language": "python",
     "metadata": {},
     "outputs": [
      {
       "output_type": "stream",
       "stream": "stdout",
       "text": [
        "consumer 1 got => [producer id=0, count=0]\n",
        "consumer 0 got => [producer id=0, count=1]\n",
        "consumer 1 got => [producer id=0, count=2]\n",
        "consumer 0 got => [producer id=0, count=3]\n",
        "consumer 0 got => [producer id=1, count=0]\n",
        "consumer 1 got => [producer id=2, count=0]\n",
        "consumer 0 got => [producer id=1, count=1]\n",
        "consumer 1 got => [producer id=3, count=0]\n",
        "consumer 0 got => [producer id=1, count=2]\n",
        "consumer 1 got => [producer id=2, count=1]\n",
        "consumer 1 got => [producer id=1, count=3]\n",
        "consumer 1 got => [producer id=3, count=1]\n",
        "consumer 1 got => [producer id=2, count=2]\n",
        "consumer 1 got => [producer id=2, count=3]\n",
        "consumer 1 got => [producer id=3, count=2]\n",
        "consumer 1 got => [producer id=3, count=3]\n",
        "Main thread exit."
       ]
      },
      {
       "output_type": "stream",
       "stream": "stdout",
       "text": [
        "\n"
       ]
      }
     ],
     "prompt_number": 10
    },
    {
     "cell_type": "code",
     "collapsed": false,
     "input": [
      "#same as queuetest2.py, but uses threading, not _threads\n",
      "numconsumers = 2                  # how many consumers to start\n",
      "numproducers = 4                  # how many producers to start\n",
      "nummessages  = 4                  # messages per producer to put\n",
      "\n",
      "import threading, Queue, time\n",
      "safeprint = threading.Lock()          # else prints may overlap\n",
      "dataQueue = Queue.Queue()             # shared global, infinite size\n",
      "\n",
      "def producer(idnum, dataqueue):\n",
      "    for msgnum in range(nummessages):\n",
      "        time.sleep(idnum)\n",
      "        dataqueue.put('[producer id=%d, count=%d]' % (idnum, msgnum))\n",
      "\n",
      "def consumer(idnum, dataqueue):\n",
      "    while True:\n",
      "        time.sleep(0.1)\n",
      "        try:\n",
      "            data = dataqueue.get(block=False)\n",
      "        except Queue.Empty:\n",
      "            pass\n",
      "        else:\n",
      "            with safeprint:\n",
      "                print 'consumer', idnum, 'got =>', data\n",
      "\n",
      "if __name__ == '__main__':\n",
      "    for i in range(numconsumers):\n",
      "        thread = threading.Thread(target=consumer, args=(i, dataQueue))\n",
      "        thread.daemon = True  # else cannot exit!\n",
      "        thread.start()\n",
      "\n",
      "    waitfor = []\n",
      "    for i in range(numproducers):\n",
      "        thread = threading.Thread(target=producer, args=(i, dataQueue))\n",
      "        waitfor.append(thread)\n",
      "        thread.start()\n",
      "\n",
      "    for thread in waitfor: thread.join()    # or time.sleep() long enough here\n",
      "    print 'Main thread exit.'"
     ],
     "language": "python",
     "metadata": {},
     "outputs": [
      {
       "output_type": "stream",
       "stream": "stdout",
       "text": [
        "consumer 0 got => [producer id=3, count=3]\n",
        "consumer 1 got => [producer id=0, count=0]\n",
        "consumer 0 got => [producer id=0, count=1]\n",
        "consumer 0 got => [producer id=0, count=2]\n",
        "consumer 1 got => [producer id=0, count=3]\n",
        "consumer 1 got => [producer id=1, count=0]\n",
        "consumer 0 got => [producer id=1, count=1]\n",
        "consumer 1 got => [producer id=2, count=0]\n",
        "consumer 0 got => [producer id=1, count=2]\n",
        "consumer 1 got => [producer id=3, count=0]\n",
        "consumer 0 got => [producer id=1, count=3]\n",
        "consumer 0 got => [producer id=2, count=1]\n",
        "consumer 0 got => [producer id=2, count=2]\n",
        "consumer 0 got => [producer id=3, count=1]\n",
        "consumer 0 got => [producer id=2, count=3]\n",
        "consumer 0 got => [producer id=3, count=2]\n",
        "Main thread exit."
       ]
      },
      {
       "output_type": "stream",
       "stream": "stdout",
       "text": [
        "\n"
       ]
      }
     ],
     "prompt_number": 12
    },
    {
     "cell_type": "code",
     "collapsed": false,
     "input": [],
     "language": "python",
     "metadata": {},
     "outputs": []
    }
   ],
   "metadata": {}
  }
 ]
}