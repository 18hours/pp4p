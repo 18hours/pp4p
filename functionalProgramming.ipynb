{
 "metadata": {
  "name": ""
 },
 "nbformat": 3,
 "nbformat_minor": 0,
 "worksheets": [
  {
   "cells": [
    {
     "cell_type": "heading",
     "level": 1,
     "metadata": {},
     "source": [
      "Charming Python"
     ]
    },
    {
     "cell_type": "heading",
     "level": 2,
     "metadata": {},
     "source": [
      "Listing 1. \"Short-circuit\" conditional calls in Python"
     ]
    },
    {
     "cell_type": "code",
     "collapsed": false,
     "input": [
      "x = 3\n",
      "def ps(s) : return s\n",
      "(x==1 and ps('hello1')) or (x==2 and ps('hello2')) or (ps('hello3'))"
     ],
     "language": "python",
     "metadata": {},
     "outputs": [
      {
       "metadata": {},
       "output_type": "pyout",
       "prompt_number": 2,
       "text": [
        "'hello3'"
       ]
      }
     ],
     "prompt_number": 2
    },
    {
     "cell_type": "heading",
     "level": 2,
     "metadata": {},
     "source": [
      "Listing 2. Lambda with short-circuiting in Python"
     ]
    },
    {
     "cell_type": "code",
     "collapsed": false,
     "input": [
      "pts = lambda s : s+' world'\n",
      "names = lambda x : (x==1 and ps('hello1')) or (x==2 and ps('hello2')) or (ps('hello3'))\n",
      "/names 3"
     ],
     "language": "python",
     "metadata": {},
     "outputs": [
      {
       "metadata": {},
       "output_type": "pyout",
       "prompt_number": 5,
       "text": [
        "'hello3'"
       ]
      }
     ],
     "prompt_number": 5
    },
    {
     "cell_type": "heading",
     "level": 2,
     "metadata": {},
     "source": [
      "Listing 3. Replacing loops"
     ]
    },
    {
     "cell_type": "code",
     "collapsed": false,
     "input": [
      "name_len = map(len, [\"hao\", \"chen\", \"coolshell\"])"
     ],
     "language": "python",
     "metadata": {},
     "outputs": [],
     "prompt_number": 1
    },
    {
     "cell_type": "code",
     "collapsed": false,
     "input": [
      "name_len"
     ],
     "language": "python",
     "metadata": {},
     "outputs": [
      {
       "metadata": {},
       "output_type": "pyout",
       "prompt_number": 2,
       "text": [
        "[3, 4, 9]"
       ]
      }
     ],
     "prompt_number": 2
    },
    {
     "cell_type": "heading",
     "level": 2,
     "metadata": {},
     "source": [
      "Listing 4. Map-based action sequence"
     ]
    },
    {
     "cell_type": "code",
     "collapsed": false,
     "input": [
      "# let's create an execution utility function\n",
      "do_it = lambda f: f()\n",
      "# let f1, f2, f3 (etc) be functions that perform actions\n",
      "map(do_it, [f1,f2,f3])\n",
      "# map()-based action sequence"
     ],
     "language": "python",
     "metadata": {},
     "outputs": [
      {
       "ename": "TypeError",
       "evalue": "<lambda>() takes exactly 1 argument (0 given)",
       "output_type": "pyerr",
       "traceback": [
        "\u001b[1;31m---------------------------------------------------------------------------\u001b[0m\n\u001b[1;31mTypeError\u001b[0m                                 Traceback (most recent call last)",
        "\u001b[1;32m<ipython-input-4-bf01ae167b66>\u001b[0m in \u001b[0;36m<module>\u001b[1;34m()\u001b[0m\n\u001b[0;32m      2\u001b[0m \u001b[0mdo_it\u001b[0m \u001b[1;33m=\u001b[0m \u001b[1;32mlambda\u001b[0m \u001b[0mf\u001b[0m\u001b[1;33m:\u001b[0m \u001b[0mf\u001b[0m\u001b[1;33m(\u001b[0m\u001b[1;33m)\u001b[0m\u001b[1;33m\u001b[0m\u001b[0m\n\u001b[0;32m      3\u001b[0m \u001b[1;31m# let f1, f2, f3 (etc) be functions that perform actions\u001b[0m\u001b[1;33m\u001b[0m\u001b[1;33m\u001b[0m\u001b[0m\n\u001b[1;32m----> 4\u001b[1;33m \u001b[0mmap\u001b[0m\u001b[1;33m(\u001b[0m\u001b[0mdo_it\u001b[0m\u001b[1;33m,\u001b[0m \u001b[1;33m[\u001b[0m\u001b[0mf1\u001b[0m\u001b[1;33m,\u001b[0m\u001b[0mf2\u001b[0m\u001b[1;33m,\u001b[0m\u001b[0mf3\u001b[0m\u001b[1;33m]\u001b[0m\u001b[1;33m)\u001b[0m\u001b[1;33m\u001b[0m\u001b[0m\n\u001b[0m\u001b[0;32m      5\u001b[0m \u001b[1;31m# map()-based action sequence\u001b[0m\u001b[1;33m\u001b[0m\u001b[1;33m\u001b[0m\u001b[0m\n",
        "\u001b[1;32m<ipython-input-4-bf01ae167b66>\u001b[0m in \u001b[0;36m<lambda>\u001b[1;34m(f)\u001b[0m\n\u001b[0;32m      1\u001b[0m \u001b[1;31m# let's create an execution utility function\u001b[0m\u001b[1;33m\u001b[0m\u001b[1;33m\u001b[0m\u001b[0m\n\u001b[1;32m----> 2\u001b[1;33m \u001b[0mdo_it\u001b[0m \u001b[1;33m=\u001b[0m \u001b[1;32mlambda\u001b[0m \u001b[0mf\u001b[0m\u001b[1;33m:\u001b[0m \u001b[0mf\u001b[0m\u001b[1;33m(\u001b[0m\u001b[1;33m)\u001b[0m\u001b[1;33m\u001b[0m\u001b[0m\n\u001b[0m\u001b[0;32m      3\u001b[0m \u001b[1;31m# let f1, f2, f3 (etc) be functions that perform actions\u001b[0m\u001b[1;33m\u001b[0m\u001b[1;33m\u001b[0m\u001b[0m\n\u001b[0;32m      4\u001b[0m \u001b[0mmap\u001b[0m\u001b[1;33m(\u001b[0m\u001b[0mdo_it\u001b[0m\u001b[1;33m,\u001b[0m \u001b[1;33m[\u001b[0m\u001b[0mf1\u001b[0m\u001b[1;33m,\u001b[0m\u001b[0mf2\u001b[0m\u001b[1;33m,\u001b[0m\u001b[0mf3\u001b[0m\u001b[1;33m]\u001b[0m\u001b[1;33m)\u001b[0m\u001b[1;33m\u001b[0m\u001b[0m\n\u001b[0;32m      5\u001b[0m \u001b[1;31m# map()-based action sequence\u001b[0m\u001b[1;33m\u001b[0m\u001b[1;33m\u001b[0m\u001b[0m\n",
        "\u001b[1;31mTypeError\u001b[0m: <lambda>() takes exactly 1 argument (0 given)"
       ]
      }
     ],
     "prompt_number": 4
    },
    {
     "cell_type": "heading",
     "level": 2,
     "metadata": {},
     "source": [
      "Listing 5. Functional 'while' looping in Python"
     ]
    },
    {
     "cell_type": "code",
     "collapsed": false,
     "input": [
      "# statement-based while loop\n",
      "while < cond > :\n",
      "\t<pre - suite >\n",
      "\tif < break_condition > :\n",
      "\t\tbreak\n",
      "\telse:\n",
      "\t\t<suite >\n",
      "\n",
      "# FP-style recursive while loop\n",
      "def while_block():\n",
      "\t<pre - suite >\n",
      "\tif < break_condition > :\n",
      "\t\treturn 1\n",
      "\telse:\n",
      "\t\t<suite >\n",
      "\treturn 0"
     ],
     "language": "python",
     "metadata": {},
     "outputs": [
      {
       "ename": "SyntaxError",
       "evalue": "invalid syntax (<ipython-input-6-4d162cd26b87>, line 2)",
       "output_type": "pyerr",
       "traceback": [
        "\u001b[1;36m  File \u001b[1;32m\"<ipython-input-6-4d162cd26b87>\"\u001b[1;36m, line \u001b[1;32m2\u001b[0m\n\u001b[1;33m    while < cond > :\u001b[0m\n\u001b[1;37m          ^\u001b[0m\n\u001b[1;31mSyntaxError\u001b[0m\u001b[1;31m:\u001b[0m invalid syntax\n"
       ]
      }
     ],
     "prompt_number": 6
    },
    {
     "cell_type": "code",
     "collapsed": false,
     "input": [
      "while_FP = lambda: ( < cond > and while_block()) or while_FP()\n",
      "while_FP()"
     ],
     "language": "python",
     "metadata": {},
     "outputs": [
      {
       "ename": "SyntaxError",
       "evalue": "invalid syntax (<ipython-input-7-3598c001bc03>, line 1)",
       "output_type": "pyerr",
       "traceback": [
        "\u001b[1;36m  File \u001b[1;32m\"<ipython-input-7-3598c001bc03>\"\u001b[1;36m, line \u001b[1;32m1\u001b[0m\n\u001b[1;33m    while_FP = lambda: ( < cond > and while_block()) or while_FP()\u001b[0m\n\u001b[1;37m                         ^\u001b[0m\n\u001b[1;31mSyntaxError\u001b[0m\u001b[1;31m:\u001b[0m invalid syntax\n"
       ]
      }
     ],
     "prompt_number": 7
    },
    {
     "cell_type": "heading",
     "level": 2,
     "metadata": {},
     "source": [
      "Listing 6. Functional 'echo' loop in Python"
     ]
    },
    {
     "cell_type": "code",
     "collapsed": false,
     "input": [
      "# imperative version of \"echo()\"\n",
      "def echo_IMP():\n",
      "    while 1:\n",
      "        x = raw_input(\"IMP -- \")\n",
      "        if x == 'quit':\n",
      "            break\n",
      "        else:\n",
      "            print x\n",
      "echo_IMP()"
     ],
     "language": "python",
     "metadata": {},
     "outputs": [
      {
       "name": "stdout",
       "output_type": "stream",
       "stream": "stdout",
       "text": [
        "IMP -- a\n"
       ]
      },
      {
       "output_type": "stream",
       "stream": "stdout",
       "text": [
        "a\n"
       ]
      },
      {
       "name": "stdout",
       "output_type": "stream",
       "stream": "stdout",
       "text": [
        "IMP -- b\n"
       ]
      },
      {
       "output_type": "stream",
       "stream": "stdout",
       "text": [
        "b\n"
       ]
      },
      {
       "name": "stdout",
       "output_type": "stream",
       "stream": "stdout",
       "text": [
        "IMP -- quit\n"
       ]
      },
      {
       "name": "stdout",
       "output_type": "stream",
       "stream": "stdout",
       "text": [
        "FP -- a\n"
       ]
      },
      {
       "output_type": "stream",
       "stream": "stdout",
       "text": [
        "a\n"
       ]
      },
      {
       "name": "stdout",
       "output_type": "stream",
       "stream": "stdout",
       "text": [
        "FP -- b\n"
       ]
      },
      {
       "output_type": "stream",
       "stream": "stdout",
       "text": [
        "b\n"
       ]
      },
      {
       "name": "stdout",
       "output_type": "stream",
       "stream": "stdout",
       "text": [
        "FP -- quit\n"
       ]
      },
      {
       "output_type": "stream",
       "stream": "stdout",
       "text": [
        "quit\n"
       ]
      },
      {
       "metadata": {},
       "output_type": "pyout",
       "prompt_number": 12,
       "text": [
        "True"
       ]
      }
     ],
     "prompt_number": 12
    },
    {
     "cell_type": "code",
     "collapsed": false,
     "input": [
      "# utility function for \"identity with side-effect\"\n",
      "def monadic_print(x):\n",
      "    print x\n",
      "    return x\n",
      "# FP version of \"echo()\"\n",
      "echo_FP = lambda: monadic_print(raw_input(\"FP -- \")) == 'quit' or echo_FP()\n",
      "echo_FP()"
     ],
     "language": "python",
     "metadata": {},
     "outputs": [
      {
       "name": "stdout",
       "output_type": "stream",
       "stream": "stdout",
       "text": [
        "FP -- a\n"
       ]
      },
      {
       "output_type": "stream",
       "stream": "stdout",
       "text": [
        "a\n"
       ]
      },
      {
       "name": "stdout",
       "output_type": "stream",
       "stream": "stdout",
       "text": [
        "FP -- b\n"
       ]
      },
      {
       "output_type": "stream",
       "stream": "stdout",
       "text": [
        "b\n"
       ]
      },
      {
       "name": "stdout",
       "output_type": "stream",
       "stream": "stdout",
       "text": [
        "FP -- quit\n"
       ]
      },
      {
       "output_type": "stream",
       "stream": "stdout",
       "text": [
        "quit\n"
       ]
      },
      {
       "metadata": {},
       "output_type": "pyout",
       "prompt_number": 13,
       "text": [
        "True"
       ]
      }
     ],
     "prompt_number": 13
    },
    {
     "cell_type": "heading",
     "level": 2,
     "metadata": {},
     "source": [
      "Listing 7. Imperative Python code for \"print big products\""
     ]
    },
    {
     "cell_type": "code",
     "collapsed": false,
     "input": [
      "# Nested loop procedural style for finding big products\n",
      "xs = (1,2,3,4)\n",
      "ys = (10,15,3,22)\n",
      "bigmuls = []\n",
      "# ...more stuff...\n",
      "for x in xs:\n",
      "    for y in ys:\n",
      "        # ...more stuff...\n",
      "        if x*y > 25:\n",
      "            bigmuls.append((x,y))\n",
      "            # ...more stuff...\n",
      "# ...more stuff...\n",
      "print bigmuls"
     ],
     "language": "python",
     "metadata": {},
     "outputs": [
      {
       "output_type": "stream",
       "stream": "stdout",
       "text": [
        "[(2, 15), (2, 22), (3, 10), (3, 15), (3, 22), (4, 10), (4, 15), (4, 22)]\n"
       ]
      }
     ],
     "prompt_number": 14
    },
    {
     "cell_type": "heading",
     "level": 2,
     "metadata": {},
     "source": [
      "Listing 8. Functional approach to our goal"
     ]
    },
    {
     "cell_type": "code",
     "collapsed": false,
     "input": [
      "bigmuls = lambda xs,ys: filter(lambda (x,y):x*y > 25, combine(xs,ys))\n",
      "combine = lambda xs,ys: map(None, xs*len(ys), dupelms(ys,len(xs)))\n",
      "dupelms = lambda lst,n: reduce(lambda s,t:s+t, map(lambda l,n=n: [l]*n, lst))\n",
      "print bigmuls((1,2,3,4),(10,15,3,22))"
     ],
     "language": "python",
     "metadata": {},
     "outputs": [
      {
       "output_type": "stream",
       "stream": "stdout",
       "text": [
        "[(3, 10), (4, 10), (2, 15), (3, 15), (4, 15), (2, 22), (3, 22), (4, 22)]\n"
       ]
      }
     ],
     "prompt_number": 15
    },
    {
     "cell_type": "code",
     "collapsed": false,
     "input": [
      "print [(x,y) for x in (1,2,3,4) for y in (10,15,3,22) if x*y > 25]"
     ],
     "language": "python",
     "metadata": {},
     "outputs": [
      {
       "output_type": "stream",
       "stream": "stdout",
       "text": [
        "[(2, 15), (2, 22), (3, 10), (3, 15), (3, 22), (4, 10), (4, 15), (4, 22)]\n"
       ]
      }
     ],
     "prompt_number": 16
    },
    {
     "cell_type": "code",
     "collapsed": false,
     "input": [],
     "language": "python",
     "metadata": {},
     "outputs": []
    },
    {
     "cell_type": "code",
     "collapsed": false,
     "input": [
      "def toUpper(item):\n",
      "    return item.upper()\n",
      "\n",
      "upper_name = map(toUpper, [\"hao\", \"chen\", \"coolshell\"])\n",
      "upper_name"
     ],
     "language": "python",
     "metadata": {},
     "outputs": [
      {
       "metadata": {},
       "output_type": "pyout",
       "prompt_number": 3,
       "text": [
        "['HAO', 'CHEN', 'COOLSHELL']"
       ]
      }
     ],
     "prompt_number": 3
    },
    {
     "cell_type": "code",
     "collapsed": false,
     "input": [
      "squares = map(lambda x: x * x, range(9))\n",
      "squares"
     ],
     "language": "python",
     "metadata": {},
     "outputs": [
      {
       "metadata": {},
       "output_type": "pyout",
       "prompt_number": 4,
       "text": [
        "[0, 1, 4, 9, 16, 25, 36, 49, 64]"
       ]
      }
     ],
     "prompt_number": 4
    },
    {
     "cell_type": "code",
     "collapsed": false,
     "input": [
      "reduce(lambda x, y: x+y, [1, 2, 3, 4, 5])"
     ],
     "language": "python",
     "metadata": {},
     "outputs": [
      {
       "metadata": {},
       "output_type": "pyout",
       "prompt_number": 5,
       "text": [
        "15"
       ]
      }
     ],
     "prompt_number": 5
    },
    {
     "cell_type": "code",
     "collapsed": false,
     "input": [
      "num =[2, -5, 9, 7, -2, 5, 3, 1, 0, -3, 8]\n",
      "positive_num = filter(lambda x: x>0, num)\n",
      "average = reduce(lambda x,y: x+y, positive_num) / len( positive_num )\n",
      "average"
     ],
     "language": "python",
     "metadata": {},
     "outputs": [
      {
       "metadata": {},
       "output_type": "pyout",
       "prompt_number": 6,
       "text": [
        "5"
       ]
      }
     ],
     "prompt_number": 6
    },
    {
     "cell_type": "code",
     "collapsed": false,
     "input": [
      "from random import random\n",
      "\n",
      "\n",
      "def move_cars():\n",
      "    for i, _ in enumerate(car_positions):\n",
      "        if random() > 0.3:\n",
      "            car_positions[i] += 1\n",
      "\n",
      "\n",
      "def draw_car(car_position):\n",
      "    print '-' * car_position\n",
      "\n",
      "\n",
      "def run_step_of_race():\n",
      "    global time\n",
      "    time -= 1\n",
      "    move_cars()\n",
      "\n",
      "\n",
      "def draw():\n",
      "    print ''\n",
      "    for car_position in car_positions:\n",
      "        draw_car(car_position)\n",
      "time = 5\n",
      "car_positions = [1, 1, 1]\n",
      "while time:\n",
      "    run_step_of_race()\n",
      "    draw()"
     ],
     "language": "python",
     "metadata": {},
     "outputs": [
      {
       "output_type": "stream",
       "stream": "stdout",
       "text": [
        "\n",
        "-\n",
        "--\n",
        "--\n",
        "\n",
        "--\n",
        "---\n",
        "--\n",
        "\n",
        "---\n",
        "----\n",
        "--\n",
        "\n",
        "----\n",
        "-----\n",
        "---\n",
        "\n",
        "-----\n",
        "------\n",
        "----\n"
       ]
      }
     ],
     "prompt_number": 7
    },
    {
     "cell_type": "code",
     "collapsed": false,
     "input": [
      "from random import random\n",
      "\n",
      "\n",
      "def move_cars(car_positions):\n",
      "    return map(lambda x: x + 1 if random() > 0.3 else x,\n",
      "               car_positions)\n",
      "\n",
      "\n",
      "def output_car(car_position):\n",
      "    return '-' * car_position\n",
      "\n",
      "\n",
      "def run_step_of_race(state):\n",
      "    return {'time': state['time'] - 1,\n",
      "            'car_positions': move_cars(state['car_positions'])}\n",
      "\n",
      "\n",
      "def draw(state):\n",
      "    print ''\n",
      "    print '\\n'.join(map(output_car, state['car_positions']))\n",
      "\n",
      "\n",
      "def race(state):\n",
      "    draw(state)\n",
      "    if state['time']:\n",
      "        race(run_step_of_race(state))\n",
      "\n",
      "race({'time': 5, 'car_positions': [1, 1, 1]})\n"
     ],
     "language": "python",
     "metadata": {},
     "outputs": [
      {
       "output_type": "stream",
       "stream": "stdout",
       "text": [
        "\n",
        "-\n",
        "-\n",
        "-\n",
        "\n",
        "--\n",
        "--\n",
        "-\n",
        "\n",
        "---\n",
        "--\n",
        "--\n",
        "\n",
        "---\n",
        "---\n",
        "---\n",
        "\n",
        "----\n",
        "----\n",
        "---\n",
        "\n",
        "-----\n",
        "-----\n",
        "---\n"
       ]
      }
     ],
     "prompt_number": 8
    }
   ],
   "metadata": {}
  }
 ]
}