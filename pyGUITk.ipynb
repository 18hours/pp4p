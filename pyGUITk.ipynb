{
 "metadata": {
  "name": "",
  "signature": "sha256:861613f1c56797aa562eff5414f9770f55db901336a4bdd3bd19101a8f714eeb"
 },
 "nbformat": 3,
 "nbformat_minor": 0,
 "worksheets": []
}